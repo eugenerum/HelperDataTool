{
 "cells": [
  {
   "cell_type": "code",
   "execution_count": null,
   "metadata": {},
   "outputs": [],
   "source": [
    "import pandas as pd\n",
    "import numpy as np\n",
    "from pprint import pprint\n",
    "import codecs\n",
    "import json\n",
    "import glob\n",
    "pd.set_option('display.max_columns', None)"
   ]
  },
  {
   "cell_type": "code",
   "execution_count": null,
   "metadata": {},
   "outputs": [],
   "source": [
    "#Check data\n",
    "pd.read_json('iris.json')"
   ]
  },
  {
   "cell_type": "code",
   "execution_count": null,
   "metadata": {},
   "outputs": [],
   "source": [
    "#Path to data json\n",
    "path = 'data'\n",
    "all_files = glob.glob(path + \"/*.json\")\n",
    "\n",
    "dataframes = []\n",
    "\n",
    "#loop to load several files in folder\n",
    "for filename in all_files:\n",
    "    with codecs.open(filename, 'r', 'utf-8-sig') as json_file:  \n",
    "        data = json.load(json_file)\n",
    "           \n",
    "    #Adding in list all files\n",
    "    dataframes.append(pd.json_normalize(data, record_path=['features'], errors='ignore'))\n",
    "\n",
    "#Transforming data to DataFrame\n",
    "df = pd.concat(dataframes, axis=0, ignore_index=True)"
   ]
  }
 ],
 "metadata": {
  "kernelspec": {
   "display_name": "Python 3",
   "language": "python",
   "name": "python3"
  },
  "language_info": {
   "codemirror_mode": {
    "name": "ipython",
    "version": 3
   },
   "file_extension": ".py",
   "mimetype": "text/x-python",
   "name": "python",
   "nbconvert_exporter": "python",
   "pygments_lexer": "ipython3",
   "version": "3.8.5"
  }
 },
 "nbformat": 4,
 "nbformat_minor": 4
}
